{
 "cells": [
  {
   "cell_type": "code",
   "execution_count": null,
   "metadata": {
    "application/vnd.databricks.v1+cell": {
     "cellMetadata": {
      "byteLimit": 2048000,
      "rowLimit": 10000
     },
     "inputWidgets": {},
     "nuid": "20b954eb-186e-46ac-b82f-cf493f609942",
     "showTitle": false,
     "title": ""
    }
   },
   "outputs": [],
   "source": [
    "import math"
   ]
  },
  {
   "cell_type": "markdown",
   "metadata": {
    "application/vnd.databricks.v1+cell": {
     "cellMetadata": {},
     "inputWidgets": {},
     "nuid": "e18e6a4a-a0c1-4cbe-86ec-f542661537e0",
     "showTitle": false,
     "title": ""
    }
   },
   "source": [
    "# Question 1\n",
    "<p>\n",
    "What data type is each of the following (evaluate where necessary)?\n",
    "</p>\n",
    "\n",
    "<li>5</li>\n",
    "<li>5.0</li>\n",
    "<li>5 > 1</li>\n",
    "<li>'5'</li>\n",
    "<li>5 * 2</li>\n",
    "<li>'5' * 2</li>\n",
    "<li>'5' + '2'</li>\n",
    "<li>5 / 2</li>\n",
    "<li>5 % 2</li>\n",
    "<li>{5, 2, 1}</li>\n",
    "<li>5 == 3</li>\n",
    "<li>Pi (the number)</li>"
   ]
  },
  {
   "cell_type": "code",
   "execution_count": null,
   "metadata": {
    "application/vnd.databricks.v1+cell": {
     "cellMetadata": {
      "byteLimit": 2048000,
      "rowLimit": 10000
     },
     "inputWidgets": {},
     "nuid": "d7353d6e-ca52-4f16-b20b-bb6719685715",
     "showTitle": false,
     "title": ""
    }
   },
   "outputs": [
    {
     "data": {
      "text/plain": [
       "'55'"
      ]
     },
     "execution_count": 53,
     "metadata": {},
     "output_type": "execute_result"
    }
   ],
   "source": [
    "'5' * 2"
   ]
  },
  {
   "cell_type": "code",
   "execution_count": null,
   "metadata": {
    "application/vnd.databricks.v1+cell": {
     "cellMetadata": {
      "byteLimit": 2048000,
      "rowLimit": 10000
     },
     "inputWidgets": {},
     "nuid": "d63053c0-324c-4bab-817b-3b9170dcfaba",
     "showTitle": false,
     "title": ""
    }
   },
   "outputs": [
    {
     "data": {
      "text/plain": [
       "'52'"
      ]
     },
     "execution_count": 54,
     "metadata": {},
     "output_type": "execute_result"
    }
   ],
   "source": [
    "'5' + '2'"
   ]
  },
  {
   "cell_type": "code",
   "execution_count": null,
   "metadata": {
    "application/vnd.databricks.v1+cell": {
     "cellMetadata": {
      "byteLimit": 2048000,
      "rowLimit": 10000
     },
     "inputWidgets": {},
     "nuid": "9e8ac294-741c-4562-aab4-409abd62a1e6",
     "showTitle": false,
     "title": ""
    }
   },
   "outputs": [
    {
     "data": {
      "text/plain": [
       "float"
      ]
     },
     "execution_count": 55,
     "metadata": {},
     "output_type": "execute_result"
    }
   ],
   "source": [
    "type(math.pi)"
   ]
  },
  {
   "cell_type": "markdown",
   "metadata": {
    "application/vnd.databricks.v1+cell": {
     "cellMetadata": {},
     "inputWidgets": {},
     "nuid": "a06a0cd7-c88a-4315-b934-70fdb155d98f",
     "showTitle": false,
     "title": ""
    }
   },
   "source": [
    "<li>5 : Int </li>\n",
    "<li>5.0 :  Float</li>\n",
    "<li>5 > 1 : Boolean (True)</li>\n",
    "<li>'5' : String</li>\n",
    "<li>5 * 2 : Int</li>\n",
    "<li>'5' * 2 : 55 : String</li>\n",
    "<li>'5' + '2' : 52 : String</li>\n",
    "<li>5 / 2 : 2.5: Float</li>\n",
    "<li>5 % 2 : 1 : Int</li>\n",
    "<li>{5, 2, 1} : Dictionary</li>\n",
    "<li>5 == 3 : Boolean (False)</li>\n",
    "<li>Pi (the number): Float</li>"
   ]
  },
  {
   "cell_type": "markdown",
   "metadata": {
    "application/vnd.databricks.v1+cell": {
     "cellMetadata": {},
     "inputWidgets": {},
     "nuid": "67bcb04a-e707-4786-be0d-f0fe64431f7e",
     "showTitle": false,
     "title": ""
    }
   },
   "source": [
    "# Question 2\n",
    "<p>\n",
    "Write (and evaluate) python expressions that answer these questions:</p>\n",
    "\n",
    "<p> a. How many letters are there in 'Supercalifragilisticexpialidocious'? </p>\n",
    "<p> b. Does 'Supercalifragilisticexpialidocious' contain 'ice' as a substring? </p>\n",
    "<p> c. Which of the following words is the longest: Supercalifragilisticexpialidocious Honorificabilitudinitatibus, or Bababadalgharaghtakamminarronnkonn? </p>\n",
    "<p> d. Which composer comes first in the dictionary: 'Berlioz', 'Borodin', 'Brian', 'Bartok', 'Bellini', 'Buxtehude', 'Bernstein'. Which one comes last? </p>"
   ]
  },
  {
   "cell_type": "markdown",
   "metadata": {},
   "source": [
    "<p> a </p>"
   ]
  },
  {
   "cell_type": "code",
   "execution_count": null,
   "metadata": {
    "application/vnd.databricks.v1+cell": {
     "cellMetadata": {
      "byteLimit": 2048000,
      "rowLimit": 10000
     },
     "inputWidgets": {},
     "nuid": "ec0368b7-c2e9-48eb-a603-239e0b2ca2ea",
     "showTitle": true,
     "title": "a"
    }
   },
   "outputs": [
    {
     "name": "stdout",
     "output_type": "stream",
     "text": [
      "Number of letters in the word  Supercalifragilisticexpialidocious is :: 34\n"
     ]
    }
   ],
   "source": [
    "word = \"Supercalifragilisticexpialidocious\"\n",
    "\n",
    "print(\"Number of letters in the word \", word, \"is ::\", len(word))"
   ]
  },
  {
   "cell_type": "markdown",
   "metadata": {},
   "source": [
    "<p> b </p>"
   ]
  },
  {
   "cell_type": "code",
   "execution_count": null,
   "metadata": {
    "application/vnd.databricks.v1+cell": {
     "cellMetadata": {
      "byteLimit": 2048000,
      "rowLimit": 10000
     },
     "inputWidgets": {},
     "nuid": "154202df-08c4-4f6e-8a02-d9dee1245a11",
     "showTitle": true,
     "title": "b"
    }
   },
   "outputs": [
    {
     "name": "stdout",
     "output_type": "stream",
     "text": [
      "ice is a substring of Supercalifragilisticexpialidocious\n"
     ]
    }
   ],
   "source": [
    "substring = \"ice\"\n",
    "is_substring = word.find(substring)\n",
    "if is_substring != -1:\n",
    "    print(substring,\"is a substring of\", word)\n",
    "else:\n",
    "    print(substring,\"is not a substring of\", word)"
   ]
  },
  {
   "cell_type": "markdown",
   "metadata": {},
   "source": [
    "<p> c </p>"
   ]
  },
  {
   "cell_type": "code",
   "execution_count": null,
   "metadata": {
    "application/vnd.databricks.v1+cell": {
     "cellMetadata": {
      "byteLimit": 2048000,
      "rowLimit": 10000
     },
     "inputWidgets": {},
     "nuid": "39447602-458d-4c59-8a58-705421abc5c8",
     "showTitle": true,
     "title": "c"
    }
   },
   "outputs": [
    {
     "name": "stdout",
     "output_type": "stream",
     "text": [
      "There are 2 longest word(s)\n",
      "Supercalifragilisticexpialidocious\n",
      "Bababadalgharaghtakamminarronnkonn\n"
     ]
    }
   ],
   "source": [
    "list_of_words = [\"Supercalifragilisticexpialidocious\", \n",
    "                 \"Honorificabilitudinitatibus\",\n",
    "                 \"Bababadalgharaghtakamminarronnkonn\"]\n",
    "\n",
    "max_length = max(len(word) for word in list_of_words)\n",
    "\n",
    "longest_words = [word for word in list_of_words if len(word) == max_length]\n",
    "\n",
    "print(\"There are\" , len(longest_words), \"longest word(s)\")\n",
    "for word in longest_words: \n",
    "    print(word)"
   ]
  },
  {
   "cell_type": "markdown",
   "metadata": {},
   "source": [
    "<p> d </p>"
   ]
  },
  {
   "cell_type": "code",
   "execution_count": null,
   "metadata": {
    "application/vnd.databricks.v1+cell": {
     "cellMetadata": {
      "byteLimit": 2048000,
      "rowLimit": 10000
     },
     "inputWidgets": {},
     "nuid": "87e2a362-cce1-4438-8f95-bdfbe2e5a67b",
     "showTitle": true,
     "title": "d"
    }
   },
   "outputs": [
    {
     "name": "stdout",
     "output_type": "stream",
     "text": [
      "The first composer in list order is: Berlioz\n",
      "The last composer in dictionary order is: Bernstein\n"
     ]
    }
   ],
   "source": [
    "list_of_composers = ['Berlioz', 'Borodin', 'Brian', 'Bartok', 'Bellini', 'Buxtehude', 'Bernstein']\n",
    "\n",
    "print(\"The first composer in list order is:\", list_of_composers[0])\n",
    "print(\"The last composer in list order is:\" , list_of_composers[-1])"
   ]
  },
  {
   "cell_type": "markdown",
   "metadata": {
    "application/vnd.databricks.v1+cell": {
     "cellMetadata": {
      "byteLimit": 2048000,
      "rowLimit": 10000
     },
     "inputWidgets": {},
     "nuid": "923360c6-d2a9-48e5-82b8-c12b179f11d6",
     "showTitle": false,
     "title": ""
    }
   },
   "source": [
    "# Question 3\n",
    "<p>\n",
    "Implement function triangleArea(a,b,c) that takes as input the lengths of the 3 sides of a triangle and returns the area of the triangle. By Heron's formula, the area of a triangle with side lengths a, b, and c is <p>\n",
    "\n",
    "-   `s(s - a)(s -b)(s -c)` where `s = (a+b+c)/2`.\n",
    "\n",
    "<p> >>>triangleArea(2,2,2) </p> \n",
    "<p> 1.7320508075688772 </p>"
   ]
  },
  {
   "cell_type": "code",
   "execution_count": null,
   "metadata": {
    "application/vnd.databricks.v1+cell": {
     "cellMetadata": {
      "byteLimit": 2048000,
      "rowLimit": 10000
     },
     "inputWidgets": {},
     "nuid": "6e0f2aae-ef5c-42ef-b9b1-0712adecbe2d",
     "showTitle": false,
     "title": ""
    }
   },
   "outputs": [
    {
     "name": "stdout",
     "output_type": "stream",
     "text": [
      "1.7320508075688772\n"
     ]
    }
   ],
   "source": [
    "def triangleArea(a, b, c):\n",
    "    s = (a + b + c) / 2\n",
    "    area = math.sqrt(s * (s - a) * (s - b) * (s - c))\n",
    "    return area\n",
    "\n",
    "print(triangleArea(2, 2, 2))"
   ]
  },
  {
   "cell_type": "markdown",
   "metadata": {
    "application/vnd.databricks.v1+cell": {
     "cellMetadata": {},
     "inputWidgets": {},
     "nuid": "75a66bd6-8970-431d-8a00-bd6f2f6ba0eb",
     "showTitle": false,
     "title": ""
    }
   },
   "source": [
    "# Question 4\n",
    "\n",
    "<p> Write a program in python to separate odd and even integers in separate arrays. </p>\n",
    "\n",
    "<p> Test Data :</p>\n",
    "\n",
    "- Input the number of elements to be stored in the array :5\n",
    "- Input 5 elements in the array :\n",
    "- element - 0 : 25\n",
    "- element - 1 : 47\n",
    "- element - 2 : 42\n",
    "- element - 3 : 56\n",
    "- element - 4 : 32\n",
    "- Expected Output:\n",
    "- The Even elements are:\n",
    "  -  42 56 32\n",
    "- The Odd elements are :\n",
    "  - 25 47"
   ]
  },
  {
   "cell_type": "code",
   "execution_count": null,
   "metadata": {
    "application/vnd.databricks.v1+cell": {
     "cellMetadata": {
      "byteLimit": 2048000,
      "rowLimit": 10000
     },
     "inputWidgets": {},
     "nuid": "025d85f4-1072-47d8-8cc8-6d389e10172d",
     "showTitle": false,
     "title": ""
    }
   },
   "outputs": [
    {
     "data": {
      "text/plain": [
       "Input the number of elements to be stored in the array:  5"
      ]
     },
     "metadata": {},
     "output_type": "display_data"
    },
    {
     "name": "stdout",
     "output_type": "stream",
     "text": [
      "Input 5 elements in the array:\n"
     ]
    },
    {
     "data": {
      "text/plain": [
       "element - 0:  25"
      ]
     },
     "metadata": {},
     "output_type": "display_data"
    },
    {
     "data": {
      "text/plain": [
       "element - 1:  47"
      ]
     },
     "metadata": {},
     "output_type": "display_data"
    },
    {
     "data": {
      "text/plain": [
       "element - 2:  42"
      ]
     },
     "metadata": {},
     "output_type": "display_data"
    },
    {
     "data": {
      "text/plain": [
       "element - 3:  56"
      ]
     },
     "metadata": {},
     "output_type": "display_data"
    },
    {
     "data": {
      "text/plain": [
       "element - 4:  32"
      ]
     },
     "metadata": {},
     "output_type": "display_data"
    },
    {
     "name": "stdout",
     "output_type": "stream",
     "text": [
      "\n",
      "The Even elements are: [42, 56, 32]\n",
      "The Odd elements are: [25, 47]\n"
     ]
    }
   ],
   "source": [
    "length_of_array = int(input(\"Input the number of elements to be stored in the array: \"))\n",
    "\n",
    "even_numbers = []\n",
    "odd_numbers = []\n",
    "\n",
    "# Input elements into the array\n",
    "print(f\"Input {length_of_array} elements in the array:\")\n",
    "for i in range(length_of_array):\n",
    "    array_element = int(input(f\"element - {i}: \"))\n",
    "\n",
    "    if array_element % 2 == 0:\n",
    "        even_numbers.append(array_element)\n",
    "    else:\n",
    "        odd_numbers.append(array_element)\n",
    "\n",
    "print(\"\\nThe Even elements are:\", even_numbers)\n",
    "print(\"The Odd elements are:\", odd_numbers)\n"
   ]
  },
  {
   "cell_type": "markdown",
   "metadata": {
    "application/vnd.databricks.v1+cell": {
     "cellMetadata": {},
     "inputWidgets": {},
     "nuid": "7ddc6f33-53b4-42cb-9c0c-c21c337fb250",
     "showTitle": false,
     "title": ""
    }
   },
   "source": [
    "# Question 5\n",
    "<p> a. Write a function inside(x,y,x1,y1,x2,y2) that returns True or False\n",
    "depending on whether the point (x,y) lies in the rectangle with lower left\n",
    "corner (x1,y1) and upper right corner (x2,y2). </p>\n",
    "<p>\n",
    ">>> inside(1,1,0,0,2,3)\n",
    "True\n",
    "</p>\n",
    "<p>\n",
    ">>> inside(-1,-1,0,0,2,3)\n",
    "False\n",
    "</p>\n",
    "<p>\n",
    "b. Use function inside() from part a. to write an expression that tests whether\n",
    "the point (1,1) lies in both of the following rectangles: one with lower left\n",
    "corner (0.3, 0.5) and upper right corner (1.1, 0.7) and the other with lower\n",
    "left corner (0.5, 0.2) and upper right corner (1.1, 2). \n",
    "</p>"
   ]
  },
  {
   "cell_type": "code",
   "execution_count": null,
   "metadata": {
    "application/vnd.databricks.v1+cell": {
     "cellMetadata": {
      "byteLimit": 2048000,
      "rowLimit": 10000
     },
     "inputWidgets": {},
     "nuid": "0905521e-83b8-440a-b421-022c60ce5f7f",
     "showTitle": false,
     "title": ""
    }
   },
   "outputs": [
    {
     "name": "stdout",
     "output_type": "stream",
     "text": [
      "True\n",
      "False\n"
     ]
    }
   ],
   "source": [
    "def inside(x, y, x1, y1, x2, y2):\n",
    "    return (x1 <= x <= x2) and (y1 <= y <= y2)\n",
    "\n",
    "print(inside(1, 1, 0, 0, 2, 3))  \n",
    "print(inside(-1, -1, 0, 0, 2, 3))\n"
   ]
  },
  {
   "cell_type": "code",
   "execution_count": null,
   "metadata": {
    "application/vnd.databricks.v1+cell": {
     "cellMetadata": {
      "byteLimit": 2048000,
      "rowLimit": 10000
     },
     "inputWidgets": {},
     "nuid": "d1fd3a4d-bc10-4336-8346-b4f3236ccf56",
     "showTitle": false,
     "title": ""
    }
   },
   "outputs": [
    {
     "name": "stdout",
     "output_type": "stream",
     "text": [
      "Is the point inside both rectangle?  False\n"
     ]
    }
   ],
   "source": [
    "x, y = 1, 1\n",
    "\n",
    "rectangle_1 = inside(x, y, 0.3, 0.5, 1.1, 0.7)\n",
    "\n",
    "rectangle_2 = inside(x, y, 0.5, 0.2, 1.1, 2)\n",
    "\n",
    "if_inside_both = rectangle_1 and rectangle_1\n",
    "\n",
    "print(\"Is the point inside both rectangle? \",if_inside_both)\n"
   ]
  },
  {
   "cell_type": "markdown",
   "metadata": {
    "application/vnd.databricks.v1+cell": {
     "cellMetadata": {},
     "inputWidgets": {},
     "nuid": "871de0ab-992d-4300-aac4-e3dd233f344c",
     "showTitle": false,
     "title": ""
    }
   },
   "source": [
    "# Question 6\n",
    "<p>\n",
    " You can turn a word into pig-Latin using the following two rules (simplified):\n",
    "</p>\n",
    "\n",
    "* If the word starts with a consonant, move that letter to the end and append 'ay'. For example, 'happy' becomes 'appyhay' and 'pencil' becomes 'encilpay'.\n",
    "* If the word starts with a vowel, simply append 'way' to the end of the word. For example, 'enter' becomes 'enterway' and 'other' becomes 'otherway'\n",
    "\n",
    "<p>\n",
    "For our purposes, there are 5 vowels: a, e, i, o, u (so we count y as a consonant).\n",
    "</p>\n",
    "<p>\n",
    "Write a function pig() that takes a word (i.e., a string) as input and returns its pigLatin form. Your function should still work if the input word contains upper case\n",
    "characters. Your output should always be lower case however.\n",
    "</p>\n",
    "</p>\n",
    "</p>\n",
    "<p>\n",
    ">>> pig('happy')\n",
    "  'appyhay'\n",
    "</p>\n",
    "<p>\n",
    ">>> pig('Enter')\n",
    "  'enterway' \n",
    "</p>"
   ]
  },
  {
   "cell_type": "code",
   "execution_count": null,
   "metadata": {
    "application/vnd.databricks.v1+cell": {
     "cellMetadata": {
      "byteLimit": 2048000,
      "rowLimit": 10000
     },
     "inputWidgets": {},
     "nuid": "9fe41565-ff18-4f28-9a6c-0e817f4a4af0",
     "showTitle": false,
     "title": ""
    }
   },
   "outputs": [
    {
     "name": "stdout",
     "output_type": "stream",
     "text": [
      "appyhay\n",
      "enterway\n"
     ]
    }
   ],
   "source": [
    "def pig(word):\n",
    "    word = word.lower()\n",
    "    vowels = 'aeiou'\n",
    "\n",
    "    if word[0] in vowels:\n",
    "        return word + 'way'\n",
    "    else:\n",
    "        return word[1:] + word[0] + 'ay'\n",
    "\n",
    "print(pig('happy'))   \n",
    "print(pig('Enter'))  "
   ]
  },
  {
   "cell_type": "markdown",
   "metadata": {
    "application/vnd.databricks.v1+cell": {
     "cellMetadata": {},
     "inputWidgets": {},
     "nuid": "80ab2006-2733-4e64-ba74-ddbd1c93d611",
     "showTitle": false,
     "title": ""
    }
   },
   "source": [
    "# Question 7\n",
    "<p>\n",
    "File bloodtype1.txt records blood-types of patients (A, B, AB, O or OO) at a clinic.\n",
    "Write a function bldcount() that reads the file with name name and reports (i.e.,\n",
    "prints) how many patients there are in each bloodtype. </p>\n",
    "<p>\n",
    ">>> bldcount('bloodtype.txt') </p>\n",
    "<li>There are 10 patients of blood type A.</li>\n",
    "<li>There is one patient of blood type B.</li>\n",
    "<li>There are 10 patients of blood type AB.</li>\n",
    "<li>There are 12 patients of blood type O.</li>\n",
    "<li>There are no patients of blood type OO.</li>\n"
   ]
  },
  {
   "cell_type": "code",
   "execution_count": null,
   "metadata": {
    "application/vnd.databricks.v1+cell": {
     "cellMetadata": {
      "byteLimit": 2048000,
      "rowLimit": 10000
     },
     "inputWidgets": {},
     "nuid": "74363c5c-e3b0-434c-b204-8e63ee457dfe",
     "showTitle": false,
     "title": ""
    }
   },
   "outputs": [
    {
     "name": "stdout",
     "output_type": "stream",
     "text": [
      "There are 15 patients of blood type A\n",
      "There is one patient of blood type B\n",
      "There are 13 patients of blood type AB\n",
      "There are 15 patients of blood type O\n",
      "There are no patients of blood type  OO\n"
     ]
    }
   ],
   "source": [
    "def bldcount(filename):\n",
    "    blood_types = ['A', 'B', 'AB', 'O', 'OO']\n",
    "\n",
    "    blood_count = {blood: 0 for blood in blood_types}\n",
    "\n",
    "    with open(filename, 'r') as file:\n",
    "        blood_list = file.read().split()\n",
    "        \n",
    "        for blood in blood_list:\n",
    "            if blood in blood_count:\n",
    "                blood_count[blood] += 1\n",
    "    \n",
    "    for blood in blood_types:\n",
    "        count = blood_count[blood]\n",
    "        if count == 0:\n",
    "            print(\"There are no patients of blood type \",blood)\n",
    "        elif count == 1:\n",
    "            print(\"There is one patient of blood type\", blood)\n",
    "        else:\n",
    "            print(\"There are\", count ,\"patients of blood type\", blood)\n",
    "\n",
    "\n",
    "bldcount('bloodtype1.txt')\n"
   ]
  },
  {
   "cell_type": "markdown",
   "metadata": {
    "application/vnd.databricks.v1+cell": {
     "cellMetadata": {},
     "inputWidgets": {},
     "nuid": "49e9d4c4-2bf4-4e47-8c22-d262aa310b92",
     "showTitle": false,
     "title": ""
    }
   },
   "source": [
    "# Question 8\n",
    "<p>\n",
    "Write a function curconv() that takes as input:</p>\n",
    "<p>\n",
    "1. a currency represented using a string (e.g., 'JPY' for the Japanese Yen or 'EUR' for the Euro)</p>\n",
    "<p>\n",
    "2. an amount and then converts and returns the amount in US dollars. </p>\n",
    "<p>\n",
    ">>> curconv('EUR', 100)\n",
    "122.96544\n",
    "</p>\n",
    "<p>\n",
    ">>> curconv('JPY', 100)\n",
    "1.241401\n",
    "</p>\n",
    "<p>\n",
    "The currency rates you will need are stored in file currencies.txt </p>"
   ]
  },
  {
   "cell_type": "code",
   "execution_count": null,
   "metadata": {
    "application/vnd.databricks.v1+cell": {
     "cellMetadata": {
      "byteLimit": 2048000,
      "rowLimit": 10000
     },
     "inputWidgets": {},
     "nuid": "7fa002ce-cc0c-41d6-852a-1637c262ee13",
     "showTitle": false,
     "title": ""
    }
   },
   "outputs": [
    {
     "name": "stdout",
     "output_type": "stream",
     "text": [
      "122.96544\n",
      "1.241401\n"
     ]
    }
   ],
   "source": [
    "def curconv(currency, amount):\n",
    "    with open('currencies.txt', 'r') as file:\n",
    "        for lines in file:\n",
    "            data = lines.split()\n",
    "            country_code = data[0]\n",
    "            converstion_rate = float(data[1])\n",
    "            if country_code == currency:\n",
    "                return amount * converstion_rate\n",
    "    return None\n",
    "\n",
    "print(curconv('EUR', 100))  \n",
    "print(curconv('JPY', 100))"
   ]
  },
  {
   "cell_type": "markdown",
   "metadata": {
    "application/vnd.databricks.v1+cell": {
     "cellMetadata": {},
     "inputWidgets": {},
     "nuid": "595b376a-e3b1-49ec-b8a3-fb37d662e113",
     "showTitle": false,
     "title": ""
    }
   },
   "source": [
    "# Question 9\n",
    "<p>\n",
    "Each of the following will cause an exception (an error). Identify what type of\n",
    "exception each will cause.\n",
    "</p>\n",
    "\n",
    "- Trying to add incompatible variables, as in adding 6 + ‘a’\n",
    "- Referring to the 12th item of a list that has only 10 items\n",
    "- Using a value that is out of range for a function’s input, such as calling math.sqrt(-1.0)\n",
    "- Using an undeclared variable, such as print(x) when x has not been defined\n",
    "- Trying to open a file that does not exist, such as mistyping the file name or looking in the wrong directory."
   ]
  },
  {
   "cell_type": "markdown",
   "metadata": {},
   "source": [
    "<h3><font color='#004b87'>Answers</font></h3>"
   ]
  },
  {
   "cell_type": "markdown",
   "metadata": {
    "application/vnd.databricks.v1+cell": {
     "cellMetadata": {},
     "inputWidgets": {},
     "nuid": "ed762c64-028d-479f-80b2-94cf0c95c88f",
     "showTitle": false,
     "title": ""
    }
   },
   "source": [
    "<li>6 + 'a' : TypeError </li>\n",
    "<li>list[12] : IndexError </li>\n",
    "<li>math.sqrt(-1.0) : ValueError </li>\n",
    "<li>undeclared variable: NameError </li>\n",
    "<li>open non-existent file : FileNotFoundError </li>\n"
   ]
  },
  {
   "cell_type": "markdown",
   "metadata": {
    "application/vnd.databricks.v1+cell": {
     "cellMetadata": {},
     "inputWidgets": {},
     "nuid": "2c17917e-c34e-4e99-b112-5ba8e72a6d7a",
     "showTitle": false,
     "title": ""
    }
   },
   "source": [
    "# Question 10\n",
    "<p>\n",
    "Encryption is the process of hiding the meaning of a text by substituting letters in the message with other letters, according to some system. If the process is successful, no one but the intended recipient can understand the encrypted message. Cryptanalysis refers to attempts to undo the encryption, even if some details of the encryption are unknown (for example, if an encrypted message has been intercepted). The first step of cryptanalysis is often to build up a table of letter frequencies in the encrypted text.\n",
    "</p>\n",
    "<p>\n",
    "Assume that the string letters is already defined as 'abcdefghijklmnopqrstuvwxyz'. Write a function called frequencies() that takes a string as its only parameter, and returns a list of integers, showing the number of times each character appears in the text. Your function may ignore any characters that are not in letters.\n",
    "</p>\n",
    "<p>\n",
    ">>> frequencies('The quick red fox got bored and went home.')</p>\n",
    "<p> [1, 1, 1, 3, 5, 1, 1, 2, 1, 0, 1, 0, 1, 2, 4, 0, 1, 2, 0, 2,\n",
    "1, 0, 1, 1, 0, 0] </p>\n",
    "<p>\n",
    ">>> frequencies('apple') </p>"
   ]
  },
  {
   "cell_type": "code",
   "execution_count": null,
   "metadata": {
    "application/vnd.databricks.v1+cell": {
     "cellMetadata": {
      "byteLimit": 2048000,
      "rowLimit": 10000
     },
     "inputWidgets": {},
     "nuid": "9d1d14d9-85e2-4d9c-a0c0-a21e33f927b4",
     "showTitle": false,
     "title": ""
    }
   },
   "outputs": [
    {
     "name": "stdout",
     "output_type": "stream",
     "text": [
      "[1, 1, 1, 3, 5, 1, 1, 2, 1, 0, 1, 0, 1, 2, 4, 0, 1, 2, 0, 3, 1, 0, 1, 1, 0, 0]\n",
      "[1, 0, 0, 0, 1, 0, 0, 0, 0, 0, 0, 1, 0, 0, 0, 2, 0, 0, 0, 0, 0, 0, 0, 0, 0, 0]\n"
     ]
    }
   ],
   "source": [
    "def frequencies(string):\n",
    "    letters = 'abcdefghijklmnopqrstuvwxyz'\n",
    "\n",
    "    frequency_list = [0] * len(letters)\n",
    "    string = string.lower()\n",
    "    for char in string:\n",
    "        if char in letters:\n",
    "            index = letters.index(char)\n",
    "            frequency_list[index] += 1\n",
    "    \n",
    "    return frequency_list\n",
    "\n",
    "print(frequencies('The quick red fox got bored and went home.')) \n",
    "print(frequencies('apple')) "
   ]
  },
  {
   "cell_type": "code",
   "execution_count": null,
   "metadata": {
    "application/vnd.databricks.v1+cell": {
     "cellMetadata": {},
     "inputWidgets": {},
     "nuid": "87eff278-100d-4892-8aaa-11fd5622cba1",
     "showTitle": false,
     "title": ""
    }
   },
   "outputs": [],
   "source": []
  }
 ],
 "metadata": {
  "application/vnd.databricks.v1+notebook": {
   "dashboards": [],
   "environmentMetadata": null,
   "language": "python",
   "notebookMetadata": {
    "pythonIndentUnit": 4
   },
   "notebookName": "PS1",
   "widgets": {}
  },
  "language_info": {
   "name": "python"
  }
 },
 "nbformat": 4,
 "nbformat_minor": 0
}
